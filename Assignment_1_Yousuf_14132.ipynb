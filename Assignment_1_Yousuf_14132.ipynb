{
 "cells": [
  {
   "cell_type": "code",
   "execution_count": 1,
   "id": "c406129d-8257-4346-a88a-4be97ba01714",
   "metadata": {},
   "outputs": [],
   "source": [
    "# List variable initiation\n",
    "salaries = ['20k', '40k', '50k', '60k', '35k', '89k','40k']"
   ]
  },
  {
   "cell_type": "code",
   "execution_count": 2,
   "id": "46035ad1-01d6-4010-bb22-5d3c3bd4107d",
   "metadata": {},
   "outputs": [
    {
     "data": {
      "text/plain": [
       "['20k', '40k', '50k', '60k', '35k', '89k', '40k']"
      ]
     },
     "execution_count": 2,
     "metadata": {},
     "output_type": "execute_result"
    }
   ],
   "source": [
    "salaries"
   ]
  },
  {
   "cell_type": "code",
   "execution_count": 3,
   "id": "694753ae-5b44-4443-83d0-8d55ec40d954",
   "metadata": {},
   "outputs": [
    {
     "name": "stdout",
     "output_type": "stream",
     "text": [
      "7\n"
     ]
    }
   ],
   "source": [
    "# 1. What is the length of the salaries list.\n",
    "print (len(salaries))"
   ]
  },
  {
   "cell_type": "code",
   "execution_count": 4,
   "id": "c1146cbb-b0b9-4097-9a6b-a399b7abd948",
   "metadata": {},
   "outputs": [
    {
     "name": "stdout",
     "output_type": "stream",
     "text": [
      "50k\n"
     ]
    }
   ],
   "source": [
    "# 2. Retrieve the third salary in the list by using index.\n",
    "print (salaries[2])"
   ]
  },
  {
   "cell_type": "code",
   "execution_count": 5,
   "id": "da63ff06-89a8-41a9-aaff-301bf298b75b",
   "metadata": {},
   "outputs": [
    {
     "name": "stdout",
     "output_type": "stream",
     "text": [
      "40k\n"
     ]
    }
   ],
   "source": [
    "# 3. Extract the last salary from the list by using a negative index.\n",
    "print (salaries[-1])"
   ]
  },
  {
   "cell_type": "code",
   "execution_count": 6,
   "id": "6932e716-5069-4317-83ff-0efe3b6e6e67",
   "metadata": {},
   "outputs": [
    {
     "name": "stdout",
     "output_type": "stream",
     "text": [
      "['50k', '60k', '35k']\n"
     ]
    }
   ],
   "source": [
    "# 4. Slice the salaries list to get only the middle three salaries.\n",
    "print (salaries[2:5])"
   ]
  },
  {
   "cell_type": "code",
   "execution_count": 7,
   "id": "5341c799-c147-4b7c-94f8-7dd20b533803",
   "metadata": {},
   "outputs": [
    {
     "name": "stdout",
     "output_type": "stream",
     "text": [
      "['20k', '40k', '50k', '60k', '35k', '89k', '40k', '100k']\n"
     ]
    }
   ],
   "source": [
    "# 5. Add a new salary to the list, ‘100k’ by using append() method.\n",
    "salaries.append('100k')\n",
    "print (salaries)"
   ]
  },
  {
   "cell_type": "code",
   "execution_count": 8,
   "id": "fba5b1a3-2cef-4fc0-bb77-89c50b5e38ad",
   "metadata": {},
   "outputs": [
    {
     "name": "stdout",
     "output_type": "stream",
     "text": [
      "['20k', '40k', '50k', '60k', '35k', '89k', '40k', '100k', '120k']\n"
     ]
    }
   ],
   "source": [
    "# 6. Add a new salary to the list, ‘120k’ without method.\n",
    "salaries = salaries + ['120k']\n",
    "print (salaries)"
   ]
  },
  {
   "cell_type": "code",
   "execution_count": 9,
   "id": "ab438d8a-41f6-4e70-9eb6-1f1721b5a0ae",
   "metadata": {},
   "outputs": [
    {
     "name": "stdout",
     "output_type": "stream",
     "text": [
      "['20k', '40k', '55k', '60k', '35k', '89k', '40k', '100k', '120k']\n"
     ]
    }
   ],
   "source": [
    "# 7. Replace the third salary in the list with '55k' and print the updated list.\n",
    "salaries = salaries[0:2] + ['55k'] + salaries[3:]\n",
    "print (salaries)"
   ]
  },
  {
   "cell_type": "code",
   "execution_count": 10,
   "id": "49963033-0144-4442-8c35-ab53a526ca39",
   "metadata": {},
   "outputs": [
    {
     "name": "stdout",
     "output_type": "stream",
     "text": [
      "['20k', '40k', '55K', '60k', '35k', '89k', '40k', '100k', '120k']\n"
     ]
    }
   ],
   "source": [
    "# Another way to replace third salary in the list\n",
    "salaries[2] = '55K'\n",
    "print (salaries)"
   ]
  },
  {
   "cell_type": "code",
   "execution_count": 11,
   "id": "0b48145e-2dad-489c-9465-8aaa7f914202",
   "metadata": {},
   "outputs": [
    {
     "name": "stdout",
     "output_type": "stream",
     "text": [
      "2\n"
     ]
    }
   ],
   "source": [
    "# 8. Count how many times '40k' appears in the list.\n",
    "print (salaries.count('40k'))"
   ]
  },
  {
   "cell_type": "code",
   "execution_count": 12,
   "id": "fbdade87-4495-4a8e-ba37-00186688e722",
   "metadata": {},
   "outputs": [
    {
     "name": "stdout",
     "output_type": "stream",
     "text": [
      "['20k', '25k', '40k', '55K', '60k', '35k', '89k', '40k', '100k', '120k']\n"
     ]
    }
   ],
   "source": [
    "# 9. Insert a new salary at the second position.\n",
    "salaries = salaries[0:1] + ['25k'] + salaries[1:]\n",
    "print (salaries)"
   ]
  },
  {
   "cell_type": "code",
   "execution_count": 13,
   "id": "4cde6bea-1b62-4e47-a8bd-7c1fe80a5b4c",
   "metadata": {},
   "outputs": [
    {
     "name": "stdout",
     "output_type": "stream",
     "text": [
      "['20k', '25K', '25k', '40k', '55K', '60k', '35k', '89k', '40k', '100k', '120k']\n"
     ]
    }
   ],
   "source": [
    "# Another way to insert value at the second position.\t\n",
    "salaries.insert(1, '25K')\n",
    "print (salaries)"
   ]
  },
  {
   "cell_type": "code",
   "execution_count": 14,
   "id": "972ab644-8e21-43a5-8b3c-918f5e981627",
   "metadata": {},
   "outputs": [
    {
     "name": "stdout",
     "output_type": "stream",
     "text": [
      "['120k', '100k', '40k', '89k', '35k', '60k', '55K', '40k', '25k', '25K', '20k']\n"
     ]
    }
   ],
   "source": [
    "# 10. Reverse the order of the salaries list with method.\n",
    "salaries.reverse()\n",
    "print (salaries)"
   ]
  },
  {
   "cell_type": "code",
   "execution_count": 15,
   "id": "9ef51590-c5a7-47d3-94be-61c665a643d8",
   "metadata": {},
   "outputs": [
    {
     "name": "stdout",
     "output_type": "stream",
     "text": [
      "['20k', '25K', '25k', '40k', '55K', '60k', '35k', '89k', '40k', '100k', '120k']\n"
     ]
    }
   ],
   "source": [
    "# 11. Reverse the order of the salaries list without method.\n",
    "print (salaries[::-1])"
   ]
  }
 ],
 "metadata": {
  "kernelspec": {
   "display_name": "Python [conda env:base] *",
   "language": "python",
   "name": "conda-base-py"
  },
  "language_info": {
   "codemirror_mode": {
    "name": "ipython",
    "version": 3
   },
   "file_extension": ".py",
   "mimetype": "text/x-python",
   "name": "python",
   "nbconvert_exporter": "python",
   "pygments_lexer": "ipython3",
   "version": "3.12.7"
  }
 },
 "nbformat": 4,
 "nbformat_minor": 5
}
